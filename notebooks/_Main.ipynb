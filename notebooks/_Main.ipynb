{
 "cells": [
  {
   "cell_type": "markdown",
   "id": "b5ad92f1",
   "metadata": {},
   "source": [
    "# Ostatnie zadanie (opcjonalne)"
   ]
  },
  {
   "cell_type": "markdown",
   "id": "508a49ea",
   "metadata": {},
   "source": [
    " Uruchom cały warsztatowy kod"
   ]
  },
  {
   "cell_type": "markdown",
   "id": "18d6503a",
   "metadata": {},
   "source": [
    "Notatnik 01 Pobieranie danych"
   ]
  },
  {
   "cell_type": "code",
   "execution_count": null,
   "id": "db510264",
   "metadata": {},
   "outputs": [],
   "source": [
    "%run 01_Pobieranie_danych.ipynb"
   ]
  },
  {
   "cell_type": "markdown",
   "id": "da6fb1ec",
   "metadata": {},
   "source": [
    "Notatnik 02 Inicjowanie bazy danych"
   ]
  },
  {
   "cell_type": "code",
   "execution_count": null,
   "id": "07ee369d",
   "metadata": {},
   "outputs": [],
   "source": [
    "%run 02_Inicjowanie_bazy_danych.ipynb"
   ]
  },
  {
   "cell_type": "markdown",
   "id": "cefa1706",
   "metadata": {},
   "source": [
    "Notatnik 03 Populacja bazy danych"
   ]
  },
  {
   "cell_type": "code",
   "execution_count": null,
   "id": "d91b666c",
   "metadata": {},
   "outputs": [],
   "source": [
    "%run 03_Populacja_bazy_danych.ipynb"
   ]
  },
  {
   "cell_type": "markdown",
   "id": "67750566",
   "metadata": {},
   "source": [
    "Notatnik 04_01 Analiza danych"
   ]
  },
  {
   "cell_type": "code",
   "execution_count": null,
   "id": "51127f00",
   "metadata": {},
   "outputs": [],
   "source": [
    "%run 04_Analiza_danych_01.ipynb"
   ]
  },
  {
   "cell_type": "markdown",
   "id": "5a80a245",
   "metadata": {},
   "source": [
    "Notatnik 04_02 Analiza danych"
   ]
  },
  {
   "cell_type": "code",
   "execution_count": null,
   "id": "b82c0be2",
   "metadata": {},
   "outputs": [],
   "source": [
    "%run 04_Analiza_danych_02.ipynb"
   ]
  },
  {
   "cell_type": "markdown",
   "id": "64aee38b",
   "metadata": {},
   "source": [
    "Notatnik 04_03 Analiza danych"
   ]
  },
  {
   "cell_type": "code",
   "execution_count": null,
   "id": "c67b9c59",
   "metadata": {},
   "outputs": [],
   "source": [
    "%run 04_Analiza_danych_03.ipynb"
   ]
  },
  {
   "cell_type": "markdown",
   "id": "332c5d39",
   "metadata": {},
   "source": [
    "Notatnik 05 Budowa schematu reporting"
   ]
  },
  {
   "cell_type": "code",
   "execution_count": null,
   "id": "abb51d63",
   "metadata": {},
   "outputs": [
    {
     "name": "stdout",
     "output_type": "stream",
     "text": [
      "['CREATE SCHEMA IF NOT EXISTS reporting', '\\n\\nCREATE OR REPLACE VIEW reporting.flight AS\\nSELECT *,\\n    CASE\\n           WHEN flight.dep_delay_new > 0 THEN 1\\n           ELSE 0\\n       END AS is_delayed\\n\\t\\nFROM\\n    flight\\nWHERE\\n    flight.cancelled = 0', '\\n\\nCREATE OR REPLACE VIEW reporting.top_reliability_roads\\n AS\\n SELECT f.origin_airport_id,\\n    al1.name AS origin_airport_name,\\n    f.dest_airport_id,\\n    al2.name AS dest_airport_name,\\n    f.year,\\n    count(*) AS cnt,\\n    round(avg(\\n        CASE\\n            WHEN f.dep_delay_new > 0::double precision THEN 1\\n            ELSE 0\\n        END), 2) AS reliability,\\n    rank() OVER (ORDER BY (avg(\\n        CASE\\n            WHEN f.dep_delay_new > 0::double precision THEN 1\\n            ELSE 0\\n        END)) DESC) AS nb\\n   FROM flight f\\n     JOIN airport_list al1 ON f.origin_airport_id = al1.origin_airport_id\\n     JOIN airport_list al2 ON f.dest_airport_id = al2.origin_airport_id\\n  GROUP BY f.origin_airport_id, al1.name, f.dest_airport_id, al2.name, f.year\\n HAVING count(*) > 10000\\n  ORDER BY (count(*)) DESC', '\\nCREATE OR REPLACE VIEW reporting.year_to_year_comparision AS\\nselect \\nyear,\\nmonth,\\ncount(*) as flights_amount,\\nround(avg(\\n        CASE\\n            WHEN dep_delay_new > 0::double precision THEN 1\\n            ELSE 0\\n        END), 2) AS reliability\\nfrom flight \\ngroup by year,month\\nORDER BY year,month', '\\nCREATE OR REPLACE VIEW reporting.day_to_day_comparision AS\\nselect \\nyear, \\nday_of_week,\\ncount(*) as flights_amount\\nfrom flight\\ngroup by year, day_of_week \\norder by year, day_of_week', \"\\n\\nCREATE OR REPLACE VIEW reporting.day_by_day_reliability AS\\nSELECT\\n    TO_DATE(CONCAT(year, '-', month, '-', day_of_month), 'YYYY-MM-DD') AS date,\\n    ROUND(AVG(CASE WHEN dep_delay_new > 0 THEN 1 ELSE 0 END)::NUMERIC, 2) AS reliability\\nFROM flight AS f\\nGROUP BY year, month, day_of_month\\nORDER BY date\"]\n"
     ]
    }
   ],
   "source": [
    "%run 05_Budowa_schematu_reporting.ipynb"
   ]
  },
  {
   "cell_type": "markdown",
   "id": "eb837bdc",
   "metadata": {},
   "source": [
    "Notatnik 06 Dashboard"
   ]
  },
  {
   "cell_type": "code",
   "execution_count": null,
   "id": "36ef7b4a",
   "metadata": {},
   "outputs": [],
   "source": [
    "%run 06_Dashboard.ipynb"
   ]
  },
  {
   "cell_type": "markdown",
   "id": "7c9a4a5c",
   "metadata": {},
   "source": [
    "Notatnik 07 Podsumowanie"
   ]
  },
  {
   "cell_type": "code",
   "execution_count": 1,
   "id": "d4b330f1",
   "metadata": {},
   "outputs": [],
   "source": [
    "%run 07_Podsumowanie.ipynb"
   ]
  },
  {
   "cell_type": "code",
   "execution_count": null,
   "id": "ec5fd288",
   "metadata": {},
   "outputs": [],
   "source": []
  }
 ],
 "metadata": {
  "kernelspec": {
   "display_name": "ProjektCL",
   "language": "python",
   "name": "blogcharts"
  },
  "language_info": {
   "codemirror_mode": {
    "name": "ipython",
    "version": 3
   },
   "file_extension": ".py",
   "mimetype": "text/x-python",
   "name": "python",
   "nbconvert_exporter": "python",
   "pygments_lexer": "ipython3",
   "version": "3.9.12"
  }
 },
 "nbformat": 4,
 "nbformat_minor": 5
}
