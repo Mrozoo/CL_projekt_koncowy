{
 "cells": [
  {
   "cell_type": "markdown",
   "metadata": {},
   "source": [
    " # Opis notatnika\n",
    " Zmierzamy do końca analizy danych, które zostały nam udostępnione. Ten krok dodaje jeszcze więcej informacji do naszego wyjściowego zbioru. Tym razem sprawdzimy między innymi to, czy opóźnienia lotów zależne są od trasy czy warunków pogodowych.\n",
    "\n",
    " Zanim jednak do tego przejdziemy, należy, podobnie jak w poprzednich krokach, skonfigurować odpowiednio notatnik.\n",
    " \n",
    " W tej części warsztatu ponownie wcielasz się w rolę Analiyka Danych, którego zadaniem jest wykonanie analizy eksplotacyjnej zbioru danych - jedno z wymagań dostarczonych przez klienta."
   ]
  },
  {
   "cell_type": "markdown",
   "metadata": {},
   "source": [
    " Tutaj zaimportuj wymagane biblioteki"
   ]
  },
  {
   "cell_type": "code",
   "execution_count": 1,
   "metadata": {},
   "outputs": [],
   "source": [
    "import psycopg2\n",
    "import pandas as pd\n",
    "import matplotlib.pyplot as plt\n",
    "import plotly.express as px\n",
    "import numpy as np\n",
    "import os\n",
    "from sqlalchemy import create_engine"
   ]
  },
  {
   "cell_type": "markdown",
   "metadata": {},
   "source": [
    " ## Połączenie z bazą danych\n",
    " Tutaj uzupełnij konfigurację połączenia"
   ]
  },
  {
   "cell_type": "code",
   "execution_count": 2,
   "metadata": {},
   "outputs": [],
   "source": [
    "username = 'postgres'\n",
    "password = 'kmiotek123'\n",
    "host = 'localhost'\n",
    "database = 'airlines'\n",
    "port = 5432"
   ]
  },
  {
   "cell_type": "markdown",
   "metadata": {},
   "source": [
    " Tutaj stwórz zmienną engine, która zostanie użyta do połączenia z bazą danych"
   ]
  },
  {
   "cell_type": "code",
   "execution_count": 3,
   "metadata": {},
   "outputs": [],
   "source": [
    "url = f'postgresql://{username}:{password}@{host}:{port}/{database}'\n",
    "engine = create_engine(url)"
   ]
  },
  {
   "cell_type": "markdown",
   "metadata": {},
   "source": [
    " Tutaj uzupełnij implementację metody `read_sql_table`"
   ]
  },
  {
   "cell_type": "code",
   "execution_count": 4,
   "metadata": {},
   "outputs": [],
   "source": [
    "#df = pd.read_sql_table('table_name', engine)"
   ]
  },
  {
   "cell_type": "markdown",
   "metadata": {},
   "source": [
    " Tutaj zaczytaj zapisaną wcześniej ramkę danych `flight_df` do zmniennej o takiej samej nazwie"
   ]
  },
  {
   "cell_type": "code",
   "execution_count": 5,
   "metadata": {},
   "outputs": [
    {
     "name": "stdout",
     "output_type": "stream",
     "text": [
      "        id  month  day_of_month  day_of_week op_unique_carrier tail_num  \\\n",
      "0  2183121      3             1            5                WN   N224WN   \n",
      "1  2183122      3             1            5                WN   N8549Z   \n",
      "2  2183123      3             1            5                WN   N8691A   \n",
      "3  2183124      3             1            5                WN   N447WN   \n",
      "4  2183125      3             1            5                WN   N283WN   \n",
      "\n",
      "   op_carrier_fl_num  origin_airport_id  dest_airport_id  crs_dep_time  ...  \\\n",
      "0                106              12892            10397           945  ...   \n",
      "1               1397              12892            10397          1310  ...   \n",
      "2               1993              12892            10397           735  ...   \n",
      "3               1170              12892            11292          1900  ...   \n",
      "4               1256              12892            11292          1745  ...   \n",
      "\n",
      "   distance_group  carrier_delay weather_delay  nas_delay  security_delay  \\\n",
      "0               8            NaN           NaN        NaN             NaN   \n",
      "1               8            NaN           NaN        NaN             NaN   \n",
      "2               8            NaN           NaN        NaN             NaN   \n",
      "3               4            NaN           NaN        NaN             NaN   \n",
      "4               4            6.0           0.0        0.0             0.0   \n",
      "\n",
      "   late_aircraft_delay  year  is_delayed  is_weekend  distance_agg  \n",
      "0                  NaN  2019       False       False        1900.0  \n",
      "1                  NaN  2019       False       False        1900.0  \n",
      "2                  NaN  2019       False       False        1900.0  \n",
      "3                  NaN  2019        True       False         800.0  \n",
      "4                 68.0  2019        True       False         800.0  \n",
      "\n",
      "[5 rows x 31 columns]\n"
     ]
    }
   ],
   "source": [
    "path = r'C:\\Users\\Maciek\\Desktop\\projekt_koncowy\\Koncowego_sprawdzony\\data\\processed'\n",
    "file_name = 'flight_df_01.csv'\n",
    "flight_df = pd.read_csv(f'{path}/{file_name}')\n",
    "\n",
    "print(flight_df.head())"
   ]
  },
  {
   "cell_type": "markdown",
   "metadata": {},
   "source": [
    " # Wzbogacenie o `airport_list`\n",
    " Wczytaj do obszaru roboczego tabelę `airport_list` używając procedury `read_sql_table`. Wykonaj poniższe ćwiczenia:  \n",
    " 1. Sprawdź, czy klucz `origin_airport_id` jest unikalny, tj. nie ma dwóch takich samych wartości w kolumnie `origin_airport_id`.  \n",
    " 1. Jeżeli duplikaty występują, usuń je w najdogodniejszy dla Ciebie sposób.  \n",
    " 1. Jeśli duplikaty nie występują, złącz ramki `airport_list_df` wraz z aktualną `flight_df`, używając kolumny `origin_airport_id` oraz złączenia typu `LEFT JOIN`. Z ramki `airport_list_df` interesuje nas dodanie kolumny `origin_city_name`.  \n",
    " 1. Dodatkowo dokonaj jeszcze raz złączenia ramki `flight_df` z `airport_list_df`, tym razem jednak złącz kolumnę `destination_airport_id` wraz z `origin_airport_id`. Podobnie jak wcześniej, interesuje nas kolumna `origin_city_name`, jedank ona powinna zostać wyświetlona jako `destination_city_name`"
   ]
  },
  {
   "cell_type": "markdown",
   "metadata": {},
   "source": [
    " Tutaj wczytaj ramkę `airport_list_df`"
   ]
  },
  {
   "cell_type": "code",
   "execution_count": 6,
   "metadata": {},
   "outputs": [
    {
     "name": "stdout",
     "output_type": "stream",
     "text": [
      "    id  origin_airport_id            display_airport_name origin_city_name  \\\n",
      "0   98              11638             Fresno Air Terminal       Fresno, CA   \n",
      "1   99              13342          General Mitchell Field    Milwaukee, WI   \n",
      "2  100              13244           Memphis International      Memphis, TN   \n",
      "3  101              15096  Syracuse Hancock International     Syracuse, NY   \n",
      "4  102              10397               Atlanta Municipal      Atlanta, GA   \n",
      "\n",
      "                                                name  \n",
      "0               FRESNO YOSEMITE INTERNATIONAL, CA US  \n",
      "1                  MILWAUKEE MITCHELL AIRPORT, WI US  \n",
      "2               MEMPHIS INTERNATIONAL AIRPORT, TN US  \n",
      "3      SYRACUSE HANCOCK INTERNATIONAL AIRPORT, NY US  \n",
      "4  ATLANTA HARTSFIELD JACKSON INTERNATIONAL AIRPO...  \n"
     ]
    }
   ],
   "source": [
    "airport_list_df = pd.read_sql_table('airport_list', engine)\n",
    "print(airport_list_df.head())"
   ]
  },
  {
   "cell_type": "markdown",
   "metadata": {},
   "source": [
    " Tutaj sprawdż, czy występują duplikaty dla kolumny `origin_airport_id`"
   ]
  },
  {
   "cell_type": "code",
   "execution_count": 7,
   "metadata": {},
   "outputs": [
    {
     "name": "stdout",
     "output_type": "stream",
     "text": [
      "False\n"
     ]
    }
   ],
   "source": [
    "print(airport_list_df['origin_airport_id'].duplicated().any())"
   ]
  },
  {
   "cell_type": "markdown",
   "metadata": {},
   "source": [
    " Tutaj usuń duplikaty – jeśli występują"
   ]
  },
  {
   "cell_type": "code",
   "execution_count": 8,
   "metadata": {},
   "outputs": [],
   "source": [
    "airport_list_df.drop_duplicates(subset=['origin_airport_id'], inplace=True)"
   ]
  },
  {
   "cell_type": "markdown",
   "metadata": {},
   "source": [
    " Tutaj dokonaj złączenia ramki `flight_df` oraz `airport_list_df` używając `origin_airport_id`"
   ]
  },
  {
   "cell_type": "code",
   "execution_count": 9,
   "metadata": {},
   "outputs": [
    {
     "name": "stdout",
     "output_type": "stream",
     "text": [
      "        id  month  day_of_month  day_of_week op_unique_carrier tail_num  \\\n",
      "0  2183121      3             1            5                WN   N224WN   \n",
      "1  2183122      3             1            5                WN   N8549Z   \n",
      "2  2183123      3             1            5                WN   N8691A   \n",
      "3  2183124      3             1            5                WN   N447WN   \n",
      "4  2183125      3             1            5                WN   N283WN   \n",
      "\n",
      "   op_carrier_fl_num  origin_airport_id  dest_airport_id  crs_dep_time  ...  \\\n",
      "0                106              12892            10397           945  ...   \n",
      "1               1397              12892            10397          1310  ...   \n",
      "2               1993              12892            10397           735  ...   \n",
      "3               1170              12892            11292          1900  ...   \n",
      "4               1256              12892            11292          1745  ...   \n",
      "\n",
      "   carrier_delay  weather_delay nas_delay  security_delay  \\\n",
      "0            NaN            NaN       NaN             NaN   \n",
      "1            NaN            NaN       NaN             NaN   \n",
      "2            NaN            NaN       NaN             NaN   \n",
      "3            NaN            NaN       NaN             NaN   \n",
      "4            6.0            0.0       0.0             0.0   \n",
      "\n",
      "   late_aircraft_delay  year is_delayed  is_weekend  distance_agg  \\\n",
      "0                  NaN  2019      False       False        1900.0   \n",
      "1                  NaN  2019      False       False        1900.0   \n",
      "2                  NaN  2019      False       False        1900.0   \n",
      "3                  NaN  2019       True       False         800.0   \n",
      "4                 68.0  2019       True       False         800.0   \n",
      "\n",
      "   origin_city_name  \n",
      "0   Los Angeles, CA  \n",
      "1   Los Angeles, CA  \n",
      "2   Los Angeles, CA  \n",
      "3   Los Angeles, CA  \n",
      "4   Los Angeles, CA  \n",
      "\n",
      "[5 rows x 32 columns]\n",
      "<class 'pandas.core.frame.DataFrame'>\n",
      "Int64Index: 1057391 entries, 0 to 1057390\n",
      "Data columns (total 32 columns):\n",
      " #   Column               Non-Null Count    Dtype  \n",
      "---  ------               --------------    -----  \n",
      " 0   id                   1057391 non-null  int64  \n",
      " 1   month                1057391 non-null  int64  \n",
      " 2   day_of_month         1057391 non-null  int64  \n",
      " 3   day_of_week          1057391 non-null  int64  \n",
      " 4   op_unique_carrier    1057391 non-null  object \n",
      " 5   tail_num             1057391 non-null  object \n",
      " 6   op_carrier_fl_num    1057391 non-null  int64  \n",
      " 7   origin_airport_id    1057391 non-null  int64  \n",
      " 8   dest_airport_id      1057391 non-null  int64  \n",
      " 9   crs_dep_time         1057391 non-null  int64  \n",
      " 10  dep_time             1057391 non-null  float64\n",
      " 11  dep_delay            1057391 non-null  float64\n",
      " 12  dep_time_blk         1057391 non-null  object \n",
      " 13  crs_arr_time         1057391 non-null  int64  \n",
      " 14  arr_time             1057193 non-null  float64\n",
      " 15  arr_delay_new        1055450 non-null  float64\n",
      " 16  arr_time_blk         1057391 non-null  object \n",
      " 17  cancelled            1057391 non-null  float64\n",
      " 18  crs_elapsed_time     1057391 non-null  float64\n",
      " 19  actual_elapsed_time  1055450 non-null  float64\n",
      " 20  distance             1057391 non-null  float64\n",
      " 21  distance_group       1057391 non-null  int64  \n",
      " 22  carrier_delay        216614 non-null   float64\n",
      " 23  weather_delay        216614 non-null   float64\n",
      " 24  nas_delay            216614 non-null   float64\n",
      " 25  security_delay       216614 non-null   float64\n",
      " 26  late_aircraft_delay  216614 non-null   float64\n",
      " 27  year                 1057391 non-null  int64  \n",
      " 28  is_delayed           1057391 non-null  bool   \n",
      " 29  is_weekend           1057391 non-null  bool   \n",
      " 30  distance_agg         1057391 non-null  float64\n",
      " 31  origin_city_name     1052300 non-null  object \n",
      "dtypes: bool(2), float64(14), int64(11), object(5)\n",
      "memory usage: 252.1+ MB\n",
      "None\n"
     ]
    }
   ],
   "source": [
    "flight_df = flight_df.merge(airport_list_df[['origin_airport_id', 'origin_city_name']], on='origin_airport_id', how='left')\n",
    "print(flight_df.head())\n",
    "print(flight_df.info())"
   ]
  },
  {
   "cell_type": "markdown",
   "metadata": {},
   "source": [
    " Tutaj dokonaj złączenia ramki `flight_df` oraz `airport_list_df` używając `destination_airport_id`"
   ]
  },
  {
   "cell_type": "code",
   "execution_count": 10,
   "metadata": {},
   "outputs": [
    {
     "name": "stdout",
     "output_type": "stream",
     "text": [
      "<class 'pandas.core.frame.DataFrame'>\n",
      "Int64Index: 1057391 entries, 0 to 1057390\n",
      "Data columns (total 33 columns):\n",
      " #   Column                 Non-Null Count    Dtype  \n",
      "---  ------                 --------------    -----  \n",
      " 0   id                     1057391 non-null  int64  \n",
      " 1   month                  1057391 non-null  int64  \n",
      " 2   day_of_month           1057391 non-null  int64  \n",
      " 3   day_of_week            1057391 non-null  int64  \n",
      " 4   op_unique_carrier      1057391 non-null  object \n",
      " 5   tail_num               1057391 non-null  object \n",
      " 6   op_carrier_fl_num      1057391 non-null  int64  \n",
      " 7   origin_airport         1057391 non-null  int64  \n",
      " 8   dest_airport_id        1057391 non-null  int64  \n",
      " 9   crs_dep_time           1057391 non-null  int64  \n",
      " 10  dep_time               1057391 non-null  float64\n",
      " 11  dep_delay              1057391 non-null  float64\n",
      " 12  dep_time_blk           1057391 non-null  object \n",
      " 13  crs_arr_time           1057391 non-null  int64  \n",
      " 14  arr_time               1057193 non-null  float64\n",
      " 15  arr_delay_new          1055450 non-null  float64\n",
      " 16  arr_time_blk           1057391 non-null  object \n",
      " 17  cancelled              1057391 non-null  float64\n",
      " 18  crs_elapsed_time       1057391 non-null  float64\n",
      " 19  actual_elapsed_time    1055450 non-null  float64\n",
      " 20  distance               1057391 non-null  float64\n",
      " 21  distance_group         1057391 non-null  int64  \n",
      " 22  carrier_delay          216614 non-null   float64\n",
      " 23  weather_delay          216614 non-null   float64\n",
      " 24  nas_delay              216614 non-null   float64\n",
      " 25  security_delay         216614 non-null   float64\n",
      " 26  late_aircraft_delay    216614 non-null   float64\n",
      " 27  year                   1057391 non-null  int64  \n",
      " 28  is_delayed             1057391 non-null  bool   \n",
      " 29  is_weekend             1057391 non-null  bool   \n",
      " 30  distance_agg           1057391 non-null  float64\n",
      " 31  origin_city_name       1052300 non-null  object \n",
      " 32  destination_city_name  1052294 non-null  object \n",
      "dtypes: bool(2), float64(14), int64(11), object(6)\n",
      "memory usage: 260.2+ MB\n",
      "None\n",
      "        id  month  day_of_month  day_of_week op_unique_carrier tail_num  \\\n",
      "0  2183121      3             1            5                WN   N224WN   \n",
      "1  2183122      3             1            5                WN   N8549Z   \n",
      "2  2183123      3             1            5                WN   N8691A   \n",
      "3  2183124      3             1            5                WN   N447WN   \n",
      "4  2183125      3             1            5                WN   N283WN   \n",
      "\n",
      "   op_carrier_fl_num  origin_airport  dest_airport_id  crs_dep_time  ...  \\\n",
      "0                106           12892            10397           945  ...   \n",
      "1               1397           12892            10397          1310  ...   \n",
      "2               1993           12892            10397           735  ...   \n",
      "3               1170           12892            11292          1900  ...   \n",
      "4               1256           12892            11292          1745  ...   \n",
      "\n",
      "   weather_delay  nas_delay security_delay  late_aircraft_delay  year  \\\n",
      "0            NaN        NaN            NaN                  NaN  2019   \n",
      "1            NaN        NaN            NaN                  NaN  2019   \n",
      "2            NaN        NaN            NaN                  NaN  2019   \n",
      "3            NaN        NaN            NaN                  NaN  2019   \n",
      "4            0.0        0.0            0.0                 68.0  2019   \n",
      "\n",
      "   is_delayed is_weekend  distance_agg  origin_city_name  \\\n",
      "0       False      False        1900.0   Los Angeles, CA   \n",
      "1       False      False        1900.0   Los Angeles, CA   \n",
      "2       False      False        1900.0   Los Angeles, CA   \n",
      "3        True      False         800.0   Los Angeles, CA   \n",
      "4        True      False         800.0   Los Angeles, CA   \n",
      "\n",
      "   destination_city_name  \n",
      "0            Atlanta, GA  \n",
      "1            Atlanta, GA  \n",
      "2            Atlanta, GA  \n",
      "3             Denver, CO  \n",
      "4             Denver, CO  \n",
      "\n",
      "[5 rows x 33 columns]\n"
     ]
    }
   ],
   "source": [
    "# Połączenie z airport_list_df po dest_airport_id\n",
    "flight_df = flight_df.merge(airport_list_df[['origin_airport_id', 'origin_city_name']], left_on='dest_airport_id', right_on='origin_airport_id', how='left')\n",
    "\n",
    "# Zmiana nazwy kolumny 'origin_city_name' na 'destination_city_name'\n",
    "flight_df = flight_df.rename(columns={'origin_city_name_y': 'destination_city_name'})\n",
    "flight_df = flight_df.rename(columns={'origin_city_name_x': 'origin_city_name'})\n",
    "flight_df = flight_df.rename(columns={'origin_airport_id_x': 'origin_airport'})\n",
    "flight_df.drop('origin_airport_id_y', axis=1, inplace=True)\n",
    "print(flight_df.info())\n",
    "\n",
    "print(flight_df.head())\n"
   ]
  },
  {
   "cell_type": "markdown",
   "metadata": {},
   "source": [
    "### Sprawdzenie\n",
    "Uruchom kod poniżej, aby sprawdzić, czy ta część została poprawnie wykonana"
   ]
  },
  {
   "cell_type": "code",
   "execution_count": 11,
   "metadata": {},
   "outputs": [],
   "source": [
    "assert 'origin_city_name' in flight_df.columns, 'Brak kolumny `origin_city_name` w ramce flight_df'\n",
    "assert 'destination_city_name' in flight_df.columns, 'Brak kolumny `destination_city_name` w ramce flight_df'\n",
    "\n",
    "flight_df_expected_rows_amount = 1057391\n",
    "assert flight_df.shape[0] == flight_df_expected_rows_amount, 'Ups, zmieniła się liczba wierszy...'"
   ]
  },
  {
   "cell_type": "markdown",
   "metadata": {},
   "source": [
    " ## Analiza według lotnisk oraz tras\n",
    " Wykonaj poniższe polecenia:  \n",
    " 1. Wyznacz lotniska, z których **odlatywało** najwięcej samolotów. Wynik zapisz do ramki `top_airports_origin_df`.\n",
    " 1. Wyznacz lotnika, na których najwięcej lotów **się kończyło**. Wynik zapisz do ramki `top_airports_destination_df`.  \n",
    " 1. Wyznacz najczęściej uczęszczaną trasę, wynik zapisz do ramki `top_route_df`.  \n",
    " 1. Przy założeniu, że reprezentatywna liczba lotów na trasie wynosi ponad 500, wyznacz dodatkowo top 10:  \n",
    "     - tras z **najmniejszym odsetkiem opóźnień**, wynik zapisz do ramki `least_route_delays_df`.  \n",
    "     - tras z **największym odsetkiem opóźnień**, wynik zapisz do ramki `top_route_delays_df`."
   ]
  },
  {
   "cell_type": "markdown",
   "metadata": {},
   "source": [
    " Tutaj wyznacz ramkę `top_airports_origin_df`"
   ]
  },
  {
   "cell_type": "code",
   "execution_count": 12,
   "metadata": {},
   "outputs": [],
   "source": [
    "# znalezienie lotnisk z największa liczbą odlotów\n",
    "top_airports_origin_df = flight_df.groupby(\"origin_airport\")[\"id\"].count().nlargest(10).reset_index()\n",
    "top_airports_origin_df = top_airports_origin_df.rename(columns={\"id\": \"count\"})\n"
   ]
  },
  {
   "cell_type": "markdown",
   "metadata": {},
   "source": [
    " Tutaj wyznacz ramkę `top_airports_destination_df`"
   ]
  },
  {
   "cell_type": "code",
   "execution_count": 13,
   "metadata": {},
   "outputs": [],
   "source": [
    "# znalezienie lotnisk z największa liczbą przylotów\n",
    "top_airports_destination_df = flight_df.groupby(\"dest_airport_id\")[\"id\"].count().nlargest(10).reset_index()\n",
    "top_airports_destination_df = top_airports_destination_df.rename(columns={\"id\": \"count\"})\n"
   ]
  },
  {
   "cell_type": "code",
   "execution_count": 14,
   "metadata": {},
   "outputs": [],
   "source": [
    "# znalezienie najczęściej uczęszczanej trasy\n",
    "top_route_df = flight_df.groupby([\"origin_airport\", \"dest_airport_id\"])[\"id\"].count().nlargest(1).reset_index()\n",
    "\n",
    "# znalezienie trasy gdzie są najmniejsze oóźnienia (dla trasy >500 lotów)\n",
    "delay_counts_df = flight_df.groupby([\"origin_airport\", \"dest_airport_id\", \"is_delayed\"])[\"id\"].count().reset_index()\n",
    "delay_counts_df = delay_counts_df.pivot_table(index=[\"origin_airport\", \"dest_airport_id\"], columns=\"is_delayed\", values=\"id\", fill_value=0).reset_index()\n",
    "delay_counts_df[\"delay_percentage\"] = delay_counts_df[True] * 100 / (delay_counts_df[True] + delay_counts_df[False])\n",
    "least_route_delays_df = delay_counts_df[delay_counts_df[False] + delay_counts_df[True] > 500].nsmallest(10, \"delay_percentage\")\n",
    "\n",
    "# znalezienie trasy gdzie są największe oóźnienia (dla trasy >500 lotów)\n",
    "top_routes = top_route_df[[\"origin_airport\", \"dest_airport_id\"]]\n",
    "top_route_delays_df = delay_counts_df[delay_counts_df[False] + delay_counts_df[True] > 500].merge(top_routes, on=[\"origin_airport\", \"dest_airport_id\"])\n",
    "top_route_delays_df = top_route_delays_df.nlargest(10, \"delay_percentage\")\n"
   ]
  },
  {
   "cell_type": "markdown",
   "metadata": {},
   "source": [
    " ### Sprawdzenie dla `top_airport_origin`"
   ]
  },
  {
   "cell_type": "code",
   "execution_count": null,
   "metadata": {},
   "outputs": [],
   "source": []
  },
  {
   "cell_type": "markdown",
   "metadata": {},
   "source": [
    "### Sprawdzenie dla `top_airport_destination`"
   ]
  },
  {
   "cell_type": "code",
   "execution_count": 15,
   "metadata": {},
   "outputs": [],
   "source": [
    "top_airports_destination_df = (flight_df\n",
    "                               .groupby(by=['dest_airport_id']).size()\n",
    "                               )\n",
    "top_airports_destination_df\n",
    "\n",
    "top_airports_destination_head = (top_airports_destination_df\n",
    "                                 .sort_values(ascending=False)\n",
    "                                 .head()\n",
    "                                 .to_list()\n",
    "                                 )\n",
    "top_airports_destination_head = tuple(top_airports_destination_head)\n",
    "top_airports_destination_head_expected = (122945, 100333, 87776, 64602, 57686)\n",
    "\n",
    "assert top_airports_destination_head == top_airports_destination_head_expected, f\"Nie zgadza się top 5 wierszy, oczekiwano wyników: {top_airports_destination_head_expected} otrzymano: {top_airports_destination_head}\""
   ]
  },
  {
   "cell_type": "markdown",
   "metadata": {},
   "source": [
    " # Wzbogacenie o dane pogodowe\n",
    " Używając procedury `read_sql_table`, wczytaj tabelę `airport_weather` do ramki `airport_weather_df`. Następnie wykonaj następujące polecenia:  \n",
    " 1. Pozostaw w ramce tylko następujące kolumny: `['station', 'name', 'date', 'prcp', 'snow', 'snwd', 'tmax', 'awnd']`.  \n",
    " 1. Połącz ramki `airport_list_df` wraz z `airport_weather_df` po odpowiedniej kolumnie używając takiego złączenia, aby w wyniku usunąć te wiersze (lotniska), które nie posiadają danych pogodowych. Dodatkowo, upewnij się, że zostanie tylko dodana kolumna `origin_airport_id`."
   ]
  },
  {
   "cell_type": "markdown",
   "metadata": {},
   "source": [
    " Tutaj wczytaj ramkę `airport_weather`"
   ]
  },
  {
   "cell_type": "code",
   "execution_count": 16,
   "metadata": {},
   "outputs": [
    {
     "data": {
      "text/html": [
       "<div>\n",
       "<style scoped>\n",
       "    .dataframe tbody tr th:only-of-type {\n",
       "        vertical-align: middle;\n",
       "    }\n",
       "\n",
       "    .dataframe tbody tr th {\n",
       "        vertical-align: top;\n",
       "    }\n",
       "\n",
       "    .dataframe thead th {\n",
       "        text-align: right;\n",
       "    }\n",
       "</style>\n",
       "<table border=\"1\" class=\"dataframe\">\n",
       "  <thead>\n",
       "    <tr style=\"text-align: right;\">\n",
       "      <th></th>\n",
       "      <th>id</th>\n",
       "      <th>station</th>\n",
       "      <th>name</th>\n",
       "      <th>date</th>\n",
       "      <th>awnd</th>\n",
       "      <th>pgtm</th>\n",
       "      <th>prcp</th>\n",
       "      <th>snow</th>\n",
       "      <th>snwd</th>\n",
       "      <th>tavg</th>\n",
       "      <th>...</th>\n",
       "      <th>wt09</th>\n",
       "      <th>wesd</th>\n",
       "      <th>wt10</th>\n",
       "      <th>psun</th>\n",
       "      <th>tsun</th>\n",
       "      <th>sn32</th>\n",
       "      <th>sx32</th>\n",
       "      <th>tobs</th>\n",
       "      <th>wt11</th>\n",
       "      <th>wt18</th>\n",
       "    </tr>\n",
       "  </thead>\n",
       "  <tbody>\n",
       "    <tr>\n",
       "      <th>0</th>\n",
       "      <td>47829</td>\n",
       "      <td>USW00013970</td>\n",
       "      <td>BATON ROUGE METRO AIRPORT, LA US</td>\n",
       "      <td>2019-01-22</td>\n",
       "      <td>12.30</td>\n",
       "      <td>NaN</td>\n",
       "      <td>0.00</td>\n",
       "      <td>NaN</td>\n",
       "      <td>NaN</td>\n",
       "      <td>NaN</td>\n",
       "      <td>...</td>\n",
       "      <td>NaN</td>\n",
       "      <td>NaN</td>\n",
       "      <td>NaN</td>\n",
       "      <td>NaN</td>\n",
       "      <td>NaN</td>\n",
       "      <td>NaN</td>\n",
       "      <td>NaN</td>\n",
       "      <td>NaN</td>\n",
       "      <td>NaN</td>\n",
       "      <td>NaN</td>\n",
       "    </tr>\n",
       "    <tr>\n",
       "      <th>1</th>\n",
       "      <td>48250</td>\n",
       "      <td>USW00094054</td>\n",
       "      <td>BUFFALO JOHNSON CO AIRPORT, WY US</td>\n",
       "      <td>2019-01-09</td>\n",
       "      <td>6.49</td>\n",
       "      <td>NaN</td>\n",
       "      <td>0.00</td>\n",
       "      <td>NaN</td>\n",
       "      <td>NaN</td>\n",
       "      <td>NaN</td>\n",
       "      <td>...</td>\n",
       "      <td>NaN</td>\n",
       "      <td>NaN</td>\n",
       "      <td>NaN</td>\n",
       "      <td>NaN</td>\n",
       "      <td>NaN</td>\n",
       "      <td>NaN</td>\n",
       "      <td>NaN</td>\n",
       "      <td>NaN</td>\n",
       "      <td>NaN</td>\n",
       "      <td>NaN</td>\n",
       "    </tr>\n",
       "    <tr>\n",
       "      <th>2</th>\n",
       "      <td>48251</td>\n",
       "      <td>USW00094054</td>\n",
       "      <td>BUFFALO JOHNSON CO AIRPORT, WY US</td>\n",
       "      <td>2019-01-10</td>\n",
       "      <td>6.71</td>\n",
       "      <td>NaN</td>\n",
       "      <td>0.01</td>\n",
       "      <td>NaN</td>\n",
       "      <td>NaN</td>\n",
       "      <td>NaN</td>\n",
       "      <td>...</td>\n",
       "      <td>NaN</td>\n",
       "      <td>NaN</td>\n",
       "      <td>NaN</td>\n",
       "      <td>NaN</td>\n",
       "      <td>NaN</td>\n",
       "      <td>NaN</td>\n",
       "      <td>NaN</td>\n",
       "      <td>NaN</td>\n",
       "      <td>NaN</td>\n",
       "      <td>NaN</td>\n",
       "    </tr>\n",
       "    <tr>\n",
       "      <th>3</th>\n",
       "      <td>48252</td>\n",
       "      <td>USW00094054</td>\n",
       "      <td>BUFFALO JOHNSON CO AIRPORT, WY US</td>\n",
       "      <td>2019-01-11</td>\n",
       "      <td>10.96</td>\n",
       "      <td>NaN</td>\n",
       "      <td>0.00</td>\n",
       "      <td>NaN</td>\n",
       "      <td>NaN</td>\n",
       "      <td>NaN</td>\n",
       "      <td>...</td>\n",
       "      <td>NaN</td>\n",
       "      <td>NaN</td>\n",
       "      <td>NaN</td>\n",
       "      <td>NaN</td>\n",
       "      <td>NaN</td>\n",
       "      <td>NaN</td>\n",
       "      <td>NaN</td>\n",
       "      <td>NaN</td>\n",
       "      <td>NaN</td>\n",
       "      <td>NaN</td>\n",
       "    </tr>\n",
       "    <tr>\n",
       "      <th>4</th>\n",
       "      <td>48253</td>\n",
       "      <td>USW00094054</td>\n",
       "      <td>BUFFALO JOHNSON CO AIRPORT, WY US</td>\n",
       "      <td>2019-01-12</td>\n",
       "      <td>6.93</td>\n",
       "      <td>NaN</td>\n",
       "      <td>0.00</td>\n",
       "      <td>NaN</td>\n",
       "      <td>NaN</td>\n",
       "      <td>NaN</td>\n",
       "      <td>...</td>\n",
       "      <td>NaN</td>\n",
       "      <td>NaN</td>\n",
       "      <td>NaN</td>\n",
       "      <td>NaN</td>\n",
       "      <td>NaN</td>\n",
       "      <td>NaN</td>\n",
       "      <td>NaN</td>\n",
       "      <td>NaN</td>\n",
       "      <td>NaN</td>\n",
       "      <td>NaN</td>\n",
       "    </tr>\n",
       "  </tbody>\n",
       "</table>\n",
       "<p>5 rows × 34 columns</p>\n",
       "</div>"
      ],
      "text/plain": [
       "      id      station                               name        date   awnd  \\\n",
       "0  47829  USW00013970   BATON ROUGE METRO AIRPORT, LA US  2019-01-22  12.30   \n",
       "1  48250  USW00094054  BUFFALO JOHNSON CO AIRPORT, WY US  2019-01-09   6.49   \n",
       "2  48251  USW00094054  BUFFALO JOHNSON CO AIRPORT, WY US  2019-01-10   6.71   \n",
       "3  48252  USW00094054  BUFFALO JOHNSON CO AIRPORT, WY US  2019-01-11  10.96   \n",
       "4  48253  USW00094054  BUFFALO JOHNSON CO AIRPORT, WY US  2019-01-12   6.93   \n",
       "\n",
       "   pgtm  prcp  snow  snwd  tavg  ...  wt09  wesd  wt10  psun  tsun  sn32  \\\n",
       "0   NaN  0.00   NaN   NaN   NaN  ...   NaN   NaN   NaN   NaN   NaN   NaN   \n",
       "1   NaN  0.00   NaN   NaN   NaN  ...   NaN   NaN   NaN   NaN   NaN   NaN   \n",
       "2   NaN  0.01   NaN   NaN   NaN  ...   NaN   NaN   NaN   NaN   NaN   NaN   \n",
       "3   NaN  0.00   NaN   NaN   NaN  ...   NaN   NaN   NaN   NaN   NaN   NaN   \n",
       "4   NaN  0.00   NaN   NaN   NaN  ...   NaN   NaN   NaN   NaN   NaN   NaN   \n",
       "\n",
       "   sx32  tobs  wt11  wt18  \n",
       "0   NaN   NaN   NaN   NaN  \n",
       "1   NaN   NaN   NaN   NaN  \n",
       "2   NaN   NaN   NaN   NaN  \n",
       "3   NaN   NaN   NaN   NaN  \n",
       "4   NaN   NaN   NaN   NaN  \n",
       "\n",
       "[5 rows x 34 columns]"
      ]
     },
     "execution_count": 16,
     "metadata": {},
     "output_type": "execute_result"
    }
   ],
   "source": [
    "airport_weather_df = pd.read_sql_table('airport_weather', engine)\n",
    "airport_weather_df.head()\n",
    "#airport_weather_df.info()"
   ]
  },
  {
   "cell_type": "markdown",
   "metadata": {},
   "source": [
    " Tutaj oczyść ramkę `airport_weather_df` z nadmiarowych kolumn"
   ]
  },
  {
   "cell_type": "code",
   "execution_count": 17,
   "metadata": {},
   "outputs": [
    {
     "data": {
      "text/html": [
       "<div>\n",
       "<style scoped>\n",
       "    .dataframe tbody tr th:only-of-type {\n",
       "        vertical-align: middle;\n",
       "    }\n",
       "\n",
       "    .dataframe tbody tr th {\n",
       "        vertical-align: top;\n",
       "    }\n",
       "\n",
       "    .dataframe thead th {\n",
       "        text-align: right;\n",
       "    }\n",
       "</style>\n",
       "<table border=\"1\" class=\"dataframe\">\n",
       "  <thead>\n",
       "    <tr style=\"text-align: right;\">\n",
       "      <th></th>\n",
       "      <th>id</th>\n",
       "      <th>origin_airport_id</th>\n",
       "      <th>display_airport_name</th>\n",
       "      <th>origin_city_name</th>\n",
       "      <th>name</th>\n",
       "    </tr>\n",
       "  </thead>\n",
       "  <tbody>\n",
       "    <tr>\n",
       "      <th>0</th>\n",
       "      <td>98</td>\n",
       "      <td>11638</td>\n",
       "      <td>Fresno Air Terminal</td>\n",
       "      <td>Fresno, CA</td>\n",
       "      <td>FRESNO YOSEMITE INTERNATIONAL, CA US</td>\n",
       "    </tr>\n",
       "    <tr>\n",
       "      <th>1</th>\n",
       "      <td>99</td>\n",
       "      <td>13342</td>\n",
       "      <td>General Mitchell Field</td>\n",
       "      <td>Milwaukee, WI</td>\n",
       "      <td>MILWAUKEE MITCHELL AIRPORT, WI US</td>\n",
       "    </tr>\n",
       "    <tr>\n",
       "      <th>2</th>\n",
       "      <td>100</td>\n",
       "      <td>13244</td>\n",
       "      <td>Memphis International</td>\n",
       "      <td>Memphis, TN</td>\n",
       "      <td>MEMPHIS INTERNATIONAL AIRPORT, TN US</td>\n",
       "    </tr>\n",
       "    <tr>\n",
       "      <th>3</th>\n",
       "      <td>101</td>\n",
       "      <td>15096</td>\n",
       "      <td>Syracuse Hancock International</td>\n",
       "      <td>Syracuse, NY</td>\n",
       "      <td>SYRACUSE HANCOCK INTERNATIONAL AIRPORT, NY US</td>\n",
       "    </tr>\n",
       "    <tr>\n",
       "      <th>4</th>\n",
       "      <td>102</td>\n",
       "      <td>10397</td>\n",
       "      <td>Atlanta Municipal</td>\n",
       "      <td>Atlanta, GA</td>\n",
       "      <td>ATLANTA HARTSFIELD JACKSON INTERNATIONAL AIRPO...</td>\n",
       "    </tr>\n",
       "  </tbody>\n",
       "</table>\n",
       "</div>"
      ],
      "text/plain": [
       "    id  origin_airport_id            display_airport_name origin_city_name  \\\n",
       "0   98              11638             Fresno Air Terminal       Fresno, CA   \n",
       "1   99              13342          General Mitchell Field    Milwaukee, WI   \n",
       "2  100              13244           Memphis International      Memphis, TN   \n",
       "3  101              15096  Syracuse Hancock International     Syracuse, NY   \n",
       "4  102              10397               Atlanta Municipal      Atlanta, GA   \n",
       "\n",
       "                                                name  \n",
       "0               FRESNO YOSEMITE INTERNATIONAL, CA US  \n",
       "1                  MILWAUKEE MITCHELL AIRPORT, WI US  \n",
       "2               MEMPHIS INTERNATIONAL AIRPORT, TN US  \n",
       "3      SYRACUSE HANCOCK INTERNATIONAL AIRPORT, NY US  \n",
       "4  ATLANTA HARTSFIELD JACKSON INTERNATIONAL AIRPO...  "
      ]
     },
     "execution_count": 17,
     "metadata": {},
     "output_type": "execute_result"
    }
   ],
   "source": [
    "airport_list_df.head()\n",
    "#airport_list_df.info()"
   ]
  },
  {
   "cell_type": "markdown",
   "metadata": {},
   "source": [
    " Tutaj połącz ramki `airport_list_df` oraz `airport_weather_df` aktualizując `airport_weather_df`"
   ]
  },
  {
   "cell_type": "code",
   "execution_count": 18,
   "metadata": {},
   "outputs": [],
   "source": [
    "# połączenie airport_weather_df z airport_list_df\n",
    "merged_df = pd.merge(airport_weather_df, airport_list_df[['name', 'origin_airport_id']], on='name', how='left')\n",
    "\n",
    "# usunięcie lotniks dla których brakuje danych pogodowych o kolumnie \"origin_airport_id\"\n",
    "merged_df.dropna(subset=['origin_airport_id'], inplace=True)\n",
    "\n",
    "# pozostawienie wskazanych kolumn + origin_airport_id\n",
    "airport_weather_df = merged_df.loc[:, ['station', 'name', 'date', 'prcp', 'snow', 'snwd', 'tmax', 'awnd', 'origin_airport_id']]\n"
   ]
  },
  {
   "cell_type": "code",
   "execution_count": 19,
   "metadata": {},
   "outputs": [
    {
     "data": {
      "text/html": [
       "<div>\n",
       "<style scoped>\n",
       "    .dataframe tbody tr th:only-of-type {\n",
       "        vertical-align: middle;\n",
       "    }\n",
       "\n",
       "    .dataframe tbody tr th {\n",
       "        vertical-align: top;\n",
       "    }\n",
       "\n",
       "    .dataframe thead th {\n",
       "        text-align: right;\n",
       "    }\n",
       "</style>\n",
       "<table border=\"1\" class=\"dataframe\">\n",
       "  <thead>\n",
       "    <tr style=\"text-align: right;\">\n",
       "      <th></th>\n",
       "      <th>station</th>\n",
       "      <th>name</th>\n",
       "      <th>date</th>\n",
       "      <th>prcp</th>\n",
       "      <th>snow</th>\n",
       "      <th>snwd</th>\n",
       "      <th>tmax</th>\n",
       "      <th>awnd</th>\n",
       "      <th>origin_airport_id</th>\n",
       "    </tr>\n",
       "  </thead>\n",
       "  <tbody>\n",
       "    <tr>\n",
       "      <th>6</th>\n",
       "      <td>USW00013874</td>\n",
       "      <td>ATLANTA HARTSFIELD JACKSON INTERNATIONAL AIRPO...</td>\n",
       "      <td>2019-01-01</td>\n",
       "      <td>0.14</td>\n",
       "      <td>0.0</td>\n",
       "      <td>0.0</td>\n",
       "      <td>66.0</td>\n",
       "      <td>4.70</td>\n",
       "      <td>10397.0</td>\n",
       "    </tr>\n",
       "    <tr>\n",
       "      <th>7</th>\n",
       "      <td>USW00013874</td>\n",
       "      <td>ATLANTA HARTSFIELD JACKSON INTERNATIONAL AIRPO...</td>\n",
       "      <td>2019-01-02</td>\n",
       "      <td>0.57</td>\n",
       "      <td>0.0</td>\n",
       "      <td>0.0</td>\n",
       "      <td>59.0</td>\n",
       "      <td>4.92</td>\n",
       "      <td>10397.0</td>\n",
       "    </tr>\n",
       "    <tr>\n",
       "      <th>8</th>\n",
       "      <td>USW00013874</td>\n",
       "      <td>ATLANTA HARTSFIELD JACKSON INTERNATIONAL AIRPO...</td>\n",
       "      <td>2019-01-03</td>\n",
       "      <td>0.15</td>\n",
       "      <td>0.0</td>\n",
       "      <td>0.0</td>\n",
       "      <td>55.0</td>\n",
       "      <td>5.37</td>\n",
       "      <td>10397.0</td>\n",
       "    </tr>\n",
       "    <tr>\n",
       "      <th>9</th>\n",
       "      <td>USW00013874</td>\n",
       "      <td>ATLANTA HARTSFIELD JACKSON INTERNATIONAL AIRPO...</td>\n",
       "      <td>2019-01-04</td>\n",
       "      <td>1.44</td>\n",
       "      <td>0.0</td>\n",
       "      <td>0.0</td>\n",
       "      <td>66.0</td>\n",
       "      <td>12.08</td>\n",
       "      <td>10397.0</td>\n",
       "    </tr>\n",
       "    <tr>\n",
       "      <th>10</th>\n",
       "      <td>USW00013874</td>\n",
       "      <td>ATLANTA HARTSFIELD JACKSON INTERNATIONAL AIRPO...</td>\n",
       "      <td>2019-01-05</td>\n",
       "      <td>0.00</td>\n",
       "      <td>0.0</td>\n",
       "      <td>0.0</td>\n",
       "      <td>59.0</td>\n",
       "      <td>13.42</td>\n",
       "      <td>10397.0</td>\n",
       "    </tr>\n",
       "  </tbody>\n",
       "</table>\n",
       "</div>"
      ],
      "text/plain": [
       "        station                                               name  \\\n",
       "6   USW00013874  ATLANTA HARTSFIELD JACKSON INTERNATIONAL AIRPO...   \n",
       "7   USW00013874  ATLANTA HARTSFIELD JACKSON INTERNATIONAL AIRPO...   \n",
       "8   USW00013874  ATLANTA HARTSFIELD JACKSON INTERNATIONAL AIRPO...   \n",
       "9   USW00013874  ATLANTA HARTSFIELD JACKSON INTERNATIONAL AIRPO...   \n",
       "10  USW00013874  ATLANTA HARTSFIELD JACKSON INTERNATIONAL AIRPO...   \n",
       "\n",
       "          date  prcp  snow  snwd  tmax   awnd  origin_airport_id  \n",
       "6   2019-01-01  0.14   0.0   0.0  66.0   4.70            10397.0  \n",
       "7   2019-01-02  0.57   0.0   0.0  59.0   4.92            10397.0  \n",
       "8   2019-01-03  0.15   0.0   0.0  55.0   5.37            10397.0  \n",
       "9   2019-01-04  1.44   0.0   0.0  66.0  12.08            10397.0  \n",
       "10  2019-01-05  0.00   0.0   0.0  59.0  13.42            10397.0  "
      ]
     },
     "execution_count": 19,
     "metadata": {},
     "output_type": "execute_result"
    }
   ],
   "source": [
    "#merged_df.info()\n",
    "airport_weather_df.head()"
   ]
  },
  {
   "cell_type": "markdown",
   "metadata": {},
   "source": [
    " ### Sprawdzenie\n",
    " Uruchom kod poniżej, aby sprawdzić, czy ta część została poprawnie wykonana"
   ]
  },
  {
   "cell_type": "code",
   "execution_count": 20,
   "metadata": {},
   "outputs": [],
   "source": [
    "airport_weather_df_expected_shape = (43394, 9)\n",
    "airport_weather_df_shape = airport_weather_df.shape\n",
    "\n",
    "assert airport_weather_df_expected_shape == airport_weather_df_shape, \\\n",
    "  f'Nieodpowiedni wymiar ramki airport_weather_df, oczekiwano (wierszy, kolumn): {airport_weather_df_expected_shape}'\n"
   ]
  },
  {
   "cell_type": "markdown",
   "metadata": {},
   "source": [
    " ## Połączenie `airport_weather_df` oraz `flight_df`\n",
    " W celu złączenia ramek `airport_weather_df` oraz `flight_df` wykonaj następujące kroki:  \n",
    " 1. w ramce `aiport_weather_df` występuje kolumna `date`, zrzutuj ją na typ `DATETIME`.  \n",
    " 1. w ramce `flight_df` należy stworzyć nową kolumnę o nazwie `date`. W tym celu:  \n",
    " \t- złącz kolumny `month`, `day_of_month` oraz `year` razem, użyj następującego formatu daty: `YYYY-MM-DD`.\n",
    " \t- zrzutuj kolumnę `date` na typ `DATETIME`.  \n",
    " 1. złącz ramki używając odpowiedniego klucza, wynik złączenia zapisz do ramki `flight_df`. Użyj złącznia typu `LEFT JOIN`.\n",
    "\n",
    " > Dlaczego istotne jest zachowanie typów przy złączeniu?\n",
    "\n",
    "W trakcie pracy możesz posłużyć się następującymi artykułami z `LMS`:\n",
    " - `Python - analiza danych > Dzień 6 - Pandas > Merge`\n",
    " - `Python - analiza danych > Dzień 6 - Pandas > Praca z datetime`\n",
    " - Dokumentacje metody `to_datetime`: [klik](https://pandas.pydata.org/docs/reference/api/pandas.to_datetime.html)\n",
    " - Dostępne formaty dat: [klik](https://www.programiz.com/python-programming/datetime/strftime) - sekcja `Format Code List`"
   ]
  },
  {
   "cell_type": "markdown",
   "metadata": {},
   "source": [
    " Tutaj zrzutuj kolumnę `date` na `DATETIME` w ramce `airport_weather_df`"
   ]
  },
  {
   "cell_type": "code",
   "execution_count": 21,
   "metadata": {},
   "outputs": [],
   "source": [
    "airport_weather_df['date'] = pd.to_datetime(airport_weather_df['date'])\n",
    "#print(airport_weather_df.head())"
   ]
  },
  {
   "cell_type": "markdown",
   "metadata": {},
   "source": [
    " Tutaj stwórz kolumnę `date` w ramce `flight_df`. Pamiętaj, aby była ona również typu `DATETIME`."
   ]
  },
  {
   "cell_type": "code",
   "execution_count": 22,
   "metadata": {},
   "outputs": [],
   "source": [
    "flight_df['date'] = pd.to_datetime(flight_df[['year', 'month', 'day_of_month']].astype(str).agg('-'.join, axis=1))\n",
    "\n",
    "# zmiana typu kolumny date na typ DATETIME\n",
    "flight_df['date'] = pd.to_datetime(flight_df['date'])"
   ]
  },
  {
   "cell_type": "code",
   "execution_count": 23,
   "metadata": {},
   "outputs": [
    {
     "name": "stdout",
     "output_type": "stream",
     "text": [
      "        id  month  day_of_month  day_of_week op_unique_carrier tail_num  \\\n",
      "0  2183121      3             1            5                WN   N224WN   \n",
      "1  2183122      3             1            5                WN   N8549Z   \n",
      "2  2183123      3             1            5                WN   N8691A   \n",
      "3  2183124      3             1            5                WN   N447WN   \n",
      "4  2183125      3             1            5                WN   N283WN   \n",
      "\n",
      "   op_carrier_fl_num  origin_airport  dest_airport_id  crs_dep_time  ...  \\\n",
      "0                106           12892            10397           945  ...   \n",
      "1               1397           12892            10397          1310  ...   \n",
      "2               1993           12892            10397           735  ...   \n",
      "3               1170           12892            11292          1900  ...   \n",
      "4               1256           12892            11292          1745  ...   \n",
      "\n",
      "   nas_delay  security_delay late_aircraft_delay  year  is_delayed  \\\n",
      "0        NaN             NaN                 NaN  2019       False   \n",
      "1        NaN             NaN                 NaN  2019       False   \n",
      "2        NaN             NaN                 NaN  2019       False   \n",
      "3        NaN             NaN                 NaN  2019        True   \n",
      "4        0.0             0.0                68.0  2019        True   \n",
      "\n",
      "   is_weekend distance_agg  origin_city_name  destination_city_name       date  \n",
      "0       False       1900.0   Los Angeles, CA            Atlanta, GA 2019-03-01  \n",
      "1       False       1900.0   Los Angeles, CA            Atlanta, GA 2019-03-01  \n",
      "2       False       1900.0   Los Angeles, CA            Atlanta, GA 2019-03-01  \n",
      "3       False        800.0   Los Angeles, CA             Denver, CO 2019-03-01  \n",
      "4       False        800.0   Los Angeles, CA             Denver, CO 2019-03-01  \n",
      "\n",
      "[5 rows x 34 columns]\n"
     ]
    }
   ],
   "source": [
    "print(flight_df.head())"
   ]
  },
  {
   "cell_type": "markdown",
   "metadata": {},
   "source": [
    " Tutaj złącz tabeli `airport_weather_df` oraz `flight_df`"
   ]
  },
  {
   "cell_type": "code",
   "execution_count": 24,
   "metadata": {},
   "outputs": [],
   "source": [
    "flight_df = pd.merge(flight_df, airport_weather_df, how='left', left_on=['origin_airport', 'date'], right_on=['origin_airport_id', 'date'])"
   ]
  },
  {
   "cell_type": "code",
   "execution_count": 25,
   "metadata": {},
   "outputs": [
    {
     "name": "stdout",
     "output_type": "stream",
     "text": [
      "<class 'pandas.core.frame.DataFrame'>\n",
      "Int64Index: 1057391 entries, 0 to 1057390\n",
      "Data columns (total 42 columns):\n",
      " #   Column                 Non-Null Count    Dtype         \n",
      "---  ------                 --------------    -----         \n",
      " 0   id                     1057391 non-null  int64         \n",
      " 1   month                  1057391 non-null  int64         \n",
      " 2   day_of_month           1057391 non-null  int64         \n",
      " 3   day_of_week            1057391 non-null  int64         \n",
      " 4   op_unique_carrier      1057391 non-null  object        \n",
      " 5   tail_num               1057391 non-null  object        \n",
      " 6   op_carrier_fl_num      1057391 non-null  int64         \n",
      " 7   origin_airport         1057391 non-null  int64         \n",
      " 8   dest_airport_id        1057391 non-null  int64         \n",
      " 9   crs_dep_time           1057391 non-null  int64         \n",
      " 10  dep_time               1057391 non-null  float64       \n",
      " 11  dep_delay              1057391 non-null  float64       \n",
      " 12  dep_time_blk           1057391 non-null  object        \n",
      " 13  crs_arr_time           1057391 non-null  int64         \n",
      " 14  arr_time               1057193 non-null  float64       \n",
      " 15  arr_delay_new          1055450 non-null  float64       \n",
      " 16  arr_time_blk           1057391 non-null  object        \n",
      " 17  cancelled              1057391 non-null  float64       \n",
      " 18  crs_elapsed_time       1057391 non-null  float64       \n",
      " 19  actual_elapsed_time    1055450 non-null  float64       \n",
      " 20  distance               1057391 non-null  float64       \n",
      " 21  distance_group         1057391 non-null  int64         \n",
      " 22  carrier_delay          216614 non-null   float64       \n",
      " 23  weather_delay          216614 non-null   float64       \n",
      " 24  nas_delay              216614 non-null   float64       \n",
      " 25  security_delay         216614 non-null   float64       \n",
      " 26  late_aircraft_delay    216614 non-null   float64       \n",
      " 27  year                   1057391 non-null  int64         \n",
      " 28  is_delayed             1057391 non-null  bool          \n",
      " 29  is_weekend             1057391 non-null  bool          \n",
      " 30  distance_agg           1057391 non-null  float64       \n",
      " 31  origin_city_name       1052300 non-null  object        \n",
      " 32  destination_city_name  1052294 non-null  object        \n",
      " 33  date                   1057391 non-null  datetime64[ns]\n",
      " 34  station                1052086 non-null  object        \n",
      " 35  name                   1052086 non-null  object        \n",
      " 36  prcp                   1051966 non-null  float64       \n",
      " 37  snow                   706162 non-null   float64       \n",
      " 38  snwd                   644247 non-null   float64       \n",
      " 39  tmax                   1051956 non-null  float64       \n",
      " 40  awnd                   1051942 non-null  float64       \n",
      " 41  origin_airport_id      1052086 non-null  float64       \n",
      "dtypes: bool(2), datetime64[ns](1), float64(20), int64(11), object(8)\n",
      "memory usage: 332.8+ MB\n"
     ]
    }
   ],
   "source": [
    "flight_df.info()"
   ]
  },
  {
   "cell_type": "markdown",
   "metadata": {},
   "source": [
    " ### Sprawdzenie\n",
    " Uruchom kod poniżej, aby sprawdzić, czy ta część została poprawnie wykonana"
   ]
  },
  {
   "cell_type": "code",
   "execution_count": 26,
   "metadata": {},
   "outputs": [],
   "source": [
    "flight_df_expected_rows_amount = 1057391\n",
    "assert flight_df.shape[0] == flight_df_expected_rows_amount, 'Ups, zmieniła się liczba wierszy...'\n"
   ]
  },
  {
   "cell_type": "markdown",
   "metadata": {},
   "source": [
    "# Praca samodzielna\n",
    "Używając `flight_df` zbadaj hipotezę o tym, że temperatura maksymalna wpływa na **odsetek** opóźnień lotów (kolumna `tmax`).  \n",
    "\n",
    "Przy wykonywaniu tego zadania masz pełną dowolność, jednak powinno składać się conajmniej z następujących elementów:\n",
    "- sprawdzenie, czy zmienna posiada obserwacje odstające,\n",
    "- oczyszczenie danych o ile konieczne,\n",
    "- przedstawienie w formie tabeli czy wzrost danej zmiennej powoduje zmianę w odsetku opóźnień lotów,\n",
    "- wizualizację stworzonej wcześniej tabeli w formie wykresu,\n",
    "- krótkiego opisu wyników w komórce markdown."
   ]
  },
  {
   "cell_type": "markdown",
   "metadata": {},
   "source": [
    " ## Analiza dla kolumny `tmax`"
   ]
  },
  {
   "cell_type": "markdown",
   "metadata": {},
   "source": [
    "Przed rozpoczęciem analizy warto też sprawdzić, czy kolumna tmax nie posiada obserwacji odstających. Możemy to zrobić np. poprzez wyświetlenie histogramu tej zmiennej i zobaczenie, czy występują w nim wartości skrajne."
   ]
  },
  {
   "cell_type": "code",
   "execution_count": 38,
   "metadata": {
    "scrolled": false
   },
   "outputs": [
    {
     "data": {
      "image/png": "[encoded data removed]",
      "text/plain": [
       "<Figure size 640x480 with 1 Axes>"
      ]
     },
     "metadata": {},
     "output_type": "display_data"
    }
   ],
   "source": [
    "plt.hist(flight_df['tmax'], bins=30)\n",
    "plt.title('Distribution of maximum temperatures on flights')\n",
    "plt.xlabel('Maximum temperature (°F)')\n",
    "plt.ylabel('Number of flights')\n",
    "\n",
    "plt.grid(axis='y', color='gray', linestyle='--', linewidth=0.5)\n",
    "plt.show()"
   ]
  },
  {
   "cell_type": "markdown",
   "metadata": {},
   "source": [
    "Widzimy, że histogram temperatury maksymalnej jest dość symetryczny i nie zawiera wartości skrajnych, co oznacza, że nie musimy usuwać żadnych obserwacji."
   ]
  },
  {
   "cell_type": "markdown",
   "metadata": {},
   "source": [
    "Usunięcie wierszey, w których ewentualnie brakuje danych w kolumnie 'tmax'"
   ]
  },
  {
   "cell_type": "code",
   "execution_count": 28,
   "metadata": {},
   "outputs": [],
   "source": [
    "flight_df.dropna(subset=['tmax'], inplace=True)"
   ]
  },
  {
   "cell_type": "code",
   "execution_count": 29,
   "metadata": {},
   "outputs": [],
   "source": [
    "# utworzenie przedziałów temperatury maksymalnej\n",
    "temp_bins = pd.IntervalIndex.from_tuples([(0, 10), (10, 20), (20, 30), (30, 40), (40, 50), (50, 60), (60, 70), (70, 80), (80, 90), (90, 100)])"
   ]
  },
  {
   "cell_type": "code",
   "execution_count": 30,
   "metadata": {},
   "outputs": [],
   "source": [
    "# dodanie kolumny z przedziałami temperatury maksymalnej do ramki danych\n",
    "flight_df['temp_range'] = pd.cut(flight_df['tmax'], bins=temp_bins)"
   ]
  },
  {
   "cell_type": "code",
   "execution_count": 31,
   "metadata": {},
   "outputs": [],
   "source": [
    "# obliczenie średniego odsetka opóźnień dla każdego przedziału temperatury maksymalnej\n",
    "delayed_by_temp = flight_df.groupby('temp_range')['is_delayed'].mean()"
   ]
  },
  {
   "cell_type": "code",
   "execution_count": 32,
   "metadata": {},
   "outputs": [
    {
     "data": {
      "text/plain": [
       "temp_range\n",
       "(0, 10]      0.42\n",
       "(10, 20]     0.32\n",
       "(20, 30]     0.25\n",
       "(30, 40]     0.24\n",
       "(40, 50]     0.19\n",
       "(50, 60]     0.19\n",
       "(60, 70]     0.18\n",
       "(70, 80]     0.18\n",
       "(80, 90]     0.19\n",
       "(90, 100]    0.20\n",
       "Name: is_delayed, dtype: float64"
      ]
     },
     "execution_count": 32,
     "metadata": {},
     "output_type": "execute_result"
    }
   ],
   "source": [
    "# wyświetlenie wyników \n",
    "delayed_by_temp.round(2)"
   ]
  },
  {
   "cell_type": "code",
   "execution_count": 41,
   "metadata": {
    "scrolled": false
   },
   "outputs": [
    {
     "data": {
      "image/png": "[encoded data removed]",
      "text/plain": [
       "<Figure size 640x480 with 1 Axes>"
      ]
     },
     "metadata": {},
     "output_type": "display_data"
    }
   ],
   "source": [
    "# grupowanie po kolumnie tmax i obliczenie średniej wartości dla kolumny is_delayed\n",
    "delayed_by_temp = flight_df.groupby('tmax')['is_delayed'].mean()\n",
    "\n",
    "# konwersja wyniku grupowania na ramkę danych\n",
    "delayed_by_temp = delayed_by_temp.reset_index()\n",
    "\n",
    "# wykres liniowy\n",
    "delayed_by_temp.plot(x='tmax', y='is_delayed', kind='line', label='Delays')\n",
    "\n",
    "plt.title('Average delay percentage based on temperature')\n",
    "plt.xlabel('Maximum temperature (°F)')\n",
    "plt.ylabel('Average delay percentage')\n",
    "\n",
    "plt.grid(color='gray', linestyle='--', linewidth=0.5)\n",
    "\n",
    "plt.show()"
   ]
  },
  {
   "cell_type": "code",
   "execution_count": 44,
   "metadata": {
    "scrolled": false
   },
   "outputs": [
    {
     "data": {
      "image/png": "[encoded data removed]",
      "text/plain": [
       "<Figure size 640x480 with 1 Axes>"
      ]
     },
     "metadata": {},
     "output_type": "display_data"
    }
   ],
   "source": [
    "# grupowanie danych i obliczenie średniego odsetka opóźnień dla każdego przedziału temperatury maksymalnej\n",
    "delayed_by_temp = flight_df.groupby('temp_range')['is_delayed'].mean()\n",
    "\n",
    "# utworzenie wykresu słupkowego z zaokrąglonymi wartościami na końcach kolumny\n",
    "ax = delayed_by_temp.plot(kind='bar')\n",
    "for i, v in enumerate(delayed_by_temp):\n",
    "    ax.text(i - 0.1, v + 0.01, str(round(v, 2)))\n",
    "\n",
    "plt.title('Average delay percentage based on maximum temperature')\n",
    "plt.xlabel('Temperature range')\n",
    "plt.ylabel('Average delay percentage')\n",
    "plt.xticks(rotation=45)\n",
    "\n",
    "plt.grid(axis='y', color='gray', linestyle='--', linewidth=0.5)\n",
    "\n",
    "# wyświetlenie wykresu\n",
    "plt.show()"
   ]
  },
  {
   "cell_type": "markdown",
   "metadata": {},
   "source": [
    "## Miejsce na Twój komentarz"
   ]
  },
  {
   "cell_type": "markdown",
   "metadata": {},
   "source": [
    "Hipoteza o tym, że temperatura maksymalna wpływa na odsetek opóźnień lotów jest prawdzia. Powyższe wykresy udowadniają, ze im temperatura powietrza jest niższa, tym większy jest odsetek opóźnionych lotów. Wraz ze wzostem temperatury odsetek opóźnień spada o ponad połowe wzglem najniższych temperatur. Powyżej temperatury 40°F odsetek opóźnień stablizuje się w przedziale 0.18-0.2. "
   ]
  },
  {
   "cell_type": "markdown",
   "metadata": {},
   "source": [
    "# Podsumowanie\n",
    "W tej części warsztatu dokonaliśmy kompleksowej analizy posiadanego zbioru danych. Eksploracja\n",
    "pozwoliła nam na zapoznanie się z cechami charakterystycznymi lotów - wiemy już, które \n",
    "zmienne mogą mieć wpływ na opóźnienia lotów, a które nie. Co warto podkreślić, skupiliśmy się na wielu\n",
    "aspektach tej analizy, co otwiera potencjalnie również inne możliwości dalszej pracy nad tą bazą.\n",
    "\n",
    "W tym momencie przejdziemy do kolejnego kroku, w którym, na podstawie tej analizy, przygotujemy \n",
    "system raportowy. Zanim jednak stworzymy dashboard, potrzebujemy zaktualizować naszą bazę danych."
   ]
  }
 ],
 "metadata": {
  "kernelspec": {
   "display_name": "ProjektCL",
   "language": "python",
   "name": "blogcharts"
  },
  "language_info": {
   "codemirror_mode": {
    "name": "ipython",
    "version": 3
   },
   "file_extension": ".py",
   "mimetype": "text/x-python",
   "name": "python",
   "nbconvert_exporter": "python",
   "pygments_lexer": "ipython3",
   "version": "3.9.12"
  },
  "vscode": {
   "interpreter": {
    "hash": "38d75d0df746d7f75dd34c5d1915af59cb55786647bd68b8d9064425d7680b12"
   }
  }
 },
 "nbformat": 4,
 "nbformat_minor": 2
}
